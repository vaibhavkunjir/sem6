{
 "cells": [
  {
   "cell_type": "code",
   "execution_count": 1,
   "metadata": {},
   "outputs": [],
   "source": [
    "import numpy as np\n",
    "import pandas as pd\n",
    "import matplotlib.pyplot as plt\n",
    "import seaborn as sns"
   ]
  },
  {
   "cell_type": "code",
   "execution_count": 2,
   "metadata": {},
   "outputs": [],
   "source": [
    "df = pd.read_csv(\"C:/Users/NISHA NAMDEV KUNJIR/OneDrive - Indira College of Engineering and Management/Desktop/DSBDA/Assignment4.py/Boston.csv\")"
   ]
  },
  {
   "cell_type": "code",
   "execution_count": 3,
   "metadata": {},
   "outputs": [
    {
     "name": "stdout",
     "output_type": "stream",
     "text": [
      "     Unnamed: 0     crim    zn  indus  chas    nox     rm   age     dis  rad  \\\n",
      "0             1  0.00632  18.0   2.31     0  0.538  6.575  65.2  4.0900    1   \n",
      "1             2  0.02731   0.0   7.07     0  0.469  6.421  78.9  4.9671    2   \n",
      "2             3  0.02729   0.0   7.07     0  0.469  7.185  61.1  4.9671    2   \n",
      "3             4  0.03237   0.0   2.18     0  0.458  6.998  45.8  6.0622    3   \n",
      "4             5  0.06905   0.0   2.18     0  0.458  7.147  54.2  6.0622    3   \n",
      "..          ...      ...   ...    ...   ...    ...    ...   ...     ...  ...   \n",
      "501         502  0.06263   0.0  11.93     0  0.573  6.593  69.1  2.4786    1   \n",
      "502         503  0.04527   0.0  11.93     0  0.573  6.120  76.7  2.2875    1   \n",
      "503         504  0.06076   0.0  11.93     0  0.573  6.976  91.0  2.1675    1   \n",
      "504         505  0.10959   0.0  11.93     0  0.573  6.794  89.3  2.3889    1   \n",
      "505         506  0.04741   0.0  11.93     0  0.573  6.030  80.8  2.5050    1   \n",
      "\n",
      "     tax  ptratio   black  lstat  medv  \n",
      "0    296     15.3  396.90   4.98  24.0  \n",
      "1    242     17.8  396.90   9.14  21.6  \n",
      "2    242     17.8  392.83   4.03  34.7  \n",
      "3    222     18.7  394.63   2.94  33.4  \n",
      "4    222     18.7  396.90   5.33  36.2  \n",
      "..   ...      ...     ...    ...   ...  \n",
      "501  273     21.0  391.99   9.67  22.4  \n",
      "502  273     21.0  396.90   9.08  20.6  \n",
      "503  273     21.0  396.90   5.64  23.9  \n",
      "504  273     21.0  393.45   6.48  22.0  \n",
      "505  273     21.0  396.90   7.88  11.9  \n",
      "\n",
      "[506 rows x 15 columns]\n"
     ]
    }
   ],
   "source": [
    "print(df)"
   ]
  },
  {
   "cell_type": "code",
   "execution_count": 4,
   "metadata": {},
   "outputs": [],
   "source": [
    "X = df[['crim', 'zn', 'indus', 'chas', 'nox', 'rm', 'age', 'dis', 'rad', 'tax',\n",
    "       'ptratio', 'black', 'lstat']]\n",
    "Y = df['medv']"
   ]
  },
  {
   "cell_type": "code",
   "execution_count": 5,
   "metadata": {},
   "outputs": [],
   "source": [
    "from sklearn.model_selection import train_test_split\n",
    "X_train, X_test, y_train, y_test = train_test_split(X,Y, test_size = 0.3, random_state = 42)"
   ]
  },
  {
   "attachments": {},
   "cell_type": "markdown",
   "metadata": {},
   "source": [
    "Standardizing the data"
   ]
  },
  {
   "cell_type": "code",
   "execution_count": null,
   "metadata": {},
   "outputs": [],
   "source": [
    "\n",
    "from sklearn.preprocessing import StandardScaler\n",
    "sc = StandardScaler()\n",
    "X_train = sc.fit_transform(X_train)\n",
    "X_test = sc.fit_transform(X_test)"
   ]
  },
  {
   "attachments": {},
   "cell_type": "markdown",
   "metadata": {},
   "source": [
    "Importing and loading the Linear Regression model on the data."
   ]
  },
  {
   "cell_type": "code",
   "execution_count": null,
   "metadata": {},
   "outputs": [],
   "source": [
    "from sklearn.linear_model import LinearRegression\n",
    "lr = LinearRegression()\n",
    "lr.fit(X_train, y_train)\n",
    "y_pred = lr.predict(X_test)"
   ]
  }
 ],
 "metadata": {
  "kernelspec": {
   "display_name": "Python 3",
   "language": "python",
   "name": "python3"
  },
  "language_info": {
   "codemirror_mode": {
    "name": "ipython",
    "version": 3
   },
   "file_extension": ".py",
   "mimetype": "text/x-python",
   "name": "python",
   "nbconvert_exporter": "python",
   "pygments_lexer": "ipython3",
   "version": "3.11.2"
  },
  "orig_nbformat": 4
 },
 "nbformat": 4,
 "nbformat_minor": 2
}
